{
 "cells": [
  {
   "cell_type": "markdown",
   "metadata": {},
   "source": [
    "Python Fundamentals for Machine Learning"
   ]
  },
  {
   "cell_type": "code",
   "execution_count": 1,
   "metadata": {},
   "outputs": [
    {
     "name": "stdout",
     "output_type": "stream",
     "text": [
      "\n",
      " Enter the principal Amt:2000\n",
      "\n",
      " Enter the time period:3\n",
      "\n",
      " Enter the rate of int:12\n",
      "\n",
      " Simple Interest: 720.0\n"
     ]
    }
   ],
   "source": [
    "p = int(input(\"\\n Enter the principal Amt:\"))\n",
    "t = int(input(\"\\n Enter the time period:\"))\n",
    "r = float(input(\"\\n Enter the rate of int:\"))\n",
    "si = p*t*r/100\n",
    "print(\"\\n Simple Interest:\",si)"
   ]
  },
  {
   "cell_type": "markdown",
   "metadata": {},
   "source": [
    "Output using Print"
   ]
  },
  {
   "cell_type": "code",
   "execution_count": 3,
   "metadata": {},
   "outputs": [
    {
     "name": "stdout",
     "output_type": "stream",
     "text": [
      "This sentence is output to the screen\n",
      "The value of a is: 5\n",
      "x: 1 2 3 4\n",
      "The value of x is 2 and y is 6\n",
      "I love bat and ball\n",
      "I love car and bike\n"
     ]
    }
   ],
   "source": [
    "print('''This sentence is output to the screen''')\n",
    "a=5\n",
    "print(\"The value of a is:\",a)\n",
    "print('x:',1,2,3,4)\n",
    "x = 2 ; y = 6\n",
    "print('The value of x is {} and y is {}'.format(x,y))\n",
    "print('I love {0} and {1}'.format('bat','ball'))\n",
    "print('I love {1} and {0}'.format('bike','car'))"
   ]
  },
  {
   "cell_type": "code",
   "execution_count": 4,
   "metadata": {},
   "outputs": [
    {
     "name": "stdout",
     "output_type": "stream",
     "text": [
      "Hello alexa, hows the weather today ?\n"
     ]
    }
   ],
   "source": [
    "print('Hello {name}, {greeting}'.format(greeting = 'hows the weather today ?',name = 'alexa'))"
   ]
  },
  {
   "cell_type": "code",
   "execution_count": 5,
   "metadata": {},
   "outputs": [
    {
     "name": "stdout",
     "output_type": "stream",
     "text": [
      "The value of x is 12.35\n",
      "The value of x is 12.3457\n"
     ]
    }
   ],
   "source": [
    "x = 12.3456789\n",
    "print('The value of x is %3.2f' %x)\n",
    "print('The value of x is %3.4f' %x)"
   ]
  },
  {
   "cell_type": "code",
   "execution_count": 6,
   "metadata": {},
   "outputs": [
    {
     "name": "stdout",
     "output_type": "stream",
     "text": [
      " 1   1    1\n",
      " 2   4    8\n",
      " 3   9   27\n",
      " 4  16   64\n",
      " 5  25  125\n",
      " 6  36  216\n",
      " 7  49  343\n",
      " 8  64  512\n",
      " 9  81  729\n",
      "10 100 1000\n"
     ]
    }
   ],
   "source": [
    "for x in range(1, 11):\n",
    "     print('{0:2d} {1:3d} {2:4d}'.format(x, x*x, x*x*x))"
   ]
  },
  {
   "cell_type": "code",
   "execution_count": 7,
   "metadata": {},
   "outputs": [
    {
     "name": "stdout",
     "output_type": "stream",
     "text": [
      "Raju       ==> 9480123526\n",
      "Ravi       ==> 9480123527\n",
      "Rahul      ==> 9480123528\n"
     ]
    }
   ],
   "source": [
    "table = {'Raju': 9480123526, 'Ravi': 9480123527, 'Rahul': 9480123528}\n",
    "for name, phone in table.items():\n",
    "     print('{0:10} ==> {1:10d}'.format(name, phone))"
   ]
  },
  {
   "cell_type": "code",
   "execution_count": 8,
   "metadata": {},
   "outputs": [
    {
     "name": "stdout",
     "output_type": "stream",
     "text": [
      "The value of PI is approximately 3.142.\n"
     ]
    }
   ],
   "source": [
    "import math\n",
    "print('The value of PI is approximately %5.3f.' % math.pi)"
   ]
  },
  {
   "cell_type": "markdown",
   "metadata": {},
   "source": [
    "input using input"
   ]
  },
  {
   "cell_type": "code",
   "execution_count": 10,
   "metadata": {},
   "outputs": [
    {
     "name": "stdout",
     "output_type": "stream",
     "text": [
      "Enter a string: cat\n",
      "The entered string is :cat\n",
      "Enter a integer: 10\n",
      "The entered integer is : 10\n",
      "Enter a floating point number:1.5\n",
      "The entered real number  is : 1.5\n"
     ]
    }
   ],
   "source": [
    "x = input('Enter a string: ')\n",
    "print(\"The entered string is :{0}\".format(x))\n",
    "y = int(input('Enter a integer: '))\n",
    "print(\"The entered integer is :\",y)\n",
    "z = float(input('Enter a floating point number:'))\n",
    "print(\"The entered real number  is :\",z)"
   ]
  },
  {
   "cell_type": "markdown",
   "metadata": {},
   "source": [
    "# Mutiline Statements"
   ]
  },
  {
   "cell_type": "code",
   "execution_count": 11,
   "metadata": {},
   "outputs": [
    {
     "name": "stdout",
     "output_type": "stream",
     "text": [
      "x has value of 1234\n",
      "y has value of 121112\n",
      "['Monday', 'Tuesday', 'Wednesday', 'Thursday', 'Friday']\n",
      "{'one': 'Monday'}\n"
     ]
    }
   ],
   "source": [
    "x = ('1' + '2' +'3' + '4')\n",
    "\n",
    "y = '1' + '2' + '11' + '12'\n",
    "weekdays = ['Monday', 'Tuesday', 'Wednesday','Thursday', 'Friday']\n",
    "weekday = {'one':'Monday'}\n",
    "print ('x has value of', x)\n",
    "print ('y has value of', y)\n",
    "print(weekdays)\n",
    "print(weekday)"
   ]
  },
  {
   "cell_type": "code",
   "execution_count": 15,
   "metadata": {},
   "outputs": [
    {
     "name": "stdout",
     "output_type": "stream",
     "text": [
      "Hiiii\n"
     ]
    }
   ],
   "source": [
    "import os;\n",
    "x = 'Hiiii';\n",
    "print(x)"
   ]
  },
  {
   "cell_type": "markdown",
   "metadata": {},
   "source": [
    "Conditional statement"
   ]
  },
  {
   "cell_type": "code",
   "execution_count": 14,
   "metadata": {},
   "outputs": [
    {
     "name": "stdout",
     "output_type": "stream",
     "text": [
      "-1\n",
      "value is negative\n",
      " value is negative\n"
     ]
    }
   ],
   "source": [
    "var = -1\n",
    "if var < 0:\n",
    "    print(var)\n",
    "    print(\"value is negative\")\n",
    "\n",
    "if ( var == -1 ) : \n",
    "    print(\" value is negative\")"
   ]
  },
  {
   "cell_type": "code",
   "execution_count": 16,
   "metadata": {},
   "outputs": [
    {
     "name": "stdout",
     "output_type": "stream",
     "text": [
      "value is positive\n",
      "1\n"
     ]
    }
   ],
   "source": [
    "var = 1\n",
    "if var < 0:\n",
    "    print(\"value is negative\")\n",
    "    print(var)\n",
    "else:\n",
    "    print(\"value is positive\")\n",
    "    print(var)"
   ]
  },
  {
   "cell_type": "code",
   "execution_count": 19,
   "metadata": {},
   "outputs": [
    {
     "name": "stdout",
     "output_type": "stream",
     "text": [
      "C\n"
     ]
    }
   ],
   "source": [
    "score = 60\n",
    "if score >= 99:\n",
    "    print('A')\n",
    "elif score >=75:\n",
    "    print('B')\n",
    "elif score >= 60:\n",
    "    print('C')\n",
    "elif score >= 35:\n",
    "    print('D')\n",
    "else:\n",
    "    print('F')\n"
   ]
  },
  {
   "cell_type": "markdown",
   "metadata": {},
   "source": [
    "Iteration"
   ]
  },
  {
   "cell_type": "code",
   "execution_count": 20,
   "metadata": {},
   "outputs": [
    {
     "name": "stdout",
     "output_type": "stream",
     "text": [
      " c =  0\n",
      " c =  1\n",
      " c =  2\n"
     ]
    }
   ],
   "source": [
    "c = 0\n",
    "while (c <3):\n",
    "    print(' c = ', c)\n",
    "    c = c + 1"
   ]
  },
  {
   "cell_type": "code",
   "execution_count": 21,
   "metadata": {},
   "outputs": [
    {
     "name": "stdout",
     "output_type": "stream",
     "text": [
      " Example\n",
      "First loop letter : A\n",
      "First loop letter : B\n",
      "First loop letter : C\n"
     ]
    }
   ],
   "source": [
    "print(\" Example\")\n",
    "letters = ['A', 'B', 'C']\n",
    "for index in range(len(letters)):\n",
    "    print('First loop letter :', letters[index])"
   ]
  },
  {
   "cell_type": "markdown",
   "metadata": {},
   "source": [
    "Lists"
   ]
  },
  {
   "cell_type": "code",
   "execution_count": 37,
   "metadata": {},
   "outputs": [
    {
     "name": "stdout",
     "output_type": "stream",
     "text": [
      "list_1[0]:  computer\n",
      "list2_[1:5]:  ['b', 1, 2, 3]\n"
     ]
    }
   ],
   "source": [
    "list_1 = ['computer', 'Programming', 2019, 2020, 2021]\n",
    "list_2 = ['a', 'b', 1, 2, 3, 4, 5, 6, 7 ]\n",
    "print(\"list_1[0]: \", list_1[0])\n",
    "print(\"list2_[1:5]: \", list_2[1:5])"
   ]
  },
  {
   "cell_type": "code",
   "execution_count": 38,
   "metadata": {},
   "outputs": [
    {
     "name": "stdout",
     "output_type": "stream",
     "text": [
      "list_1 values:  ['computer', 'Programming', 2019, 2020, 2021]\n",
      "list_1 values post append:  ['computer', 'Programming', 2019, 2020, 2021, 2029]\n"
     ]
    }
   ],
   "source": [
    "print(\"list_1 values: \", list_1)\n",
    "list_1.append(2029)\n",
    "print(\"list_1 values post append: \", list_1)"
   ]
  },
  {
   "cell_type": "code",
   "execution_count": 39,
   "metadata": {},
   "outputs": [
    {
     "name": "stdout",
     "output_type": "stream",
     "text": [
      "Values of list_1:  ['computer', 'Programming', 2019, 2020, 2021, 2029]\n",
      "Index 2 value :  2019\n",
      "Index 2's new value :  2022\n"
     ]
    }
   ],
   "source": [
    "print(\"Values of list_1: \", list_1)\n",
    "print(\"Index 2 value : \", list_1[2])\n",
    "list_1[2] = 2022;\n",
    "print(\"Index 2's new value : \", list_1[2])"
   ]
  },
  {
   "cell_type": "code",
   "execution_count": 40,
   "metadata": {},
   "outputs": [
    {
     "name": "stdout",
     "output_type": "stream",
     "text": [
      "list_1 values:  ['computer', 'Programming', 2022, 2020, 2021, 2029]\n",
      "After deleting value at index 2 : \n"
     ]
    }
   ],
   "source": [
    "print(\"list_1 values: \", list_1)\n",
    "del list_1[5];\n",
    "print(\"After deleting value at index 2 : \")"
   ]
  },
  {
   "cell_type": "markdown",
   "metadata": {},
   "source": [
    "Tuples"
   ]
  },
  {
   "cell_type": "code",
   "execution_count": 44,
   "metadata": {},
   "outputs": [
    {
     "name": "stdout",
     "output_type": "stream",
     "text": [
      "Empty Tuple:  ()\n",
      "Tuple with single item:  1\n",
      "Sample Tuple : ('a', 'b', 'c', 'd', 1, 2, 3)\n"
     ]
    }
   ],
   "source": [
    "Tuple = ()\n",
    "print(\"Empty Tuple: \", Tuple)\n",
    "Tuple = (1)\n",
    "print(\"Tuple with single item: \", Tuple)\n",
    "Tuple = ('a','b','c','d',1,2,3)\n",
    "print(\"Sample Tuple :\", Tuple)"
   ]
  },
  {
   "cell_type": "code",
   "execution_count": 45,
   "metadata": {},
   "outputs": [
    {
     "name": "stdout",
     "output_type": "stream",
     "text": [
      "3rd item  c\n",
      "First 3 items of Tuple ('a', 'b', 'c', 'd', 1)\n"
     ]
    }
   ],
   "source": [
    "Tuple = ('a', 'b', 'c', 'd', 1, 2, 3)\n",
    "print(\"3rd item \", Tuple[2])\n",
    "print(\"First 3 items of Tuple\", Tuple[0:5])"
   ]
  },
  {
   "cell_type": "code",
   "execution_count": 46,
   "metadata": {},
   "outputs": [
    {
     "name": "stdout",
     "output_type": "stream",
     "text": [
      "Sample Tuple:  ('a', 'b', 'c', 'd', 1, 2, 3)\n"
     ]
    }
   ],
   "source": [
    "try:\n",
    "    print(\"Sample Tuple: \", Tuple)\n",
    "    del Tuple\n",
    "except:\n",
    "    print(Tuple)"
   ]
  },
  {
   "cell_type": "code",
   "execution_count": 48,
   "metadata": {},
   "outputs": [
    {
     "name": "stdout",
     "output_type": "stream",
     "text": [
      "Length of Tuple:  7\n",
      "Concatinated Tuple:  ('x', 'y', 'z', 'a', 1, 2, 3, 7, 8, 9)\n",
      "Repetition:  (1, 'a', 2, 'b', 1, 'a', 2, 'b', 1, 'a', 2, 'b')\n",
      "Membership check:  True\n",
      "1\n",
      "2\n",
      "3\n",
      "Negative sign will retrieve item from right:  8\n",
      "Sliced Tuple [2:]  ('z', 'a', 1, 2, 3, 7, 8, 9)\n",
      "Max value(1,2,3,4,5,6,7,8,9,10):  10\n",
      "Min value (1,2,3,4,5,6,7,8,9,10):  1\n",
      "List [1,2,3,4] converted to tuple:  <class 'tuple'>\n"
     ]
    }
   ],
   "source": [
    "Tuple = ('x','y','z','a',1,2,3)\n",
    "print(\"Length of Tuple: \", len(Tuple))\n",
    "\n",
    "Tupleconcat = Tuple + (7,8,9)\n",
    "print(\"Concatinated Tuple: \", Tupleconcat)\n",
    "\n",
    "print(\"Repetition: \", (1,'a',2, 'b') * 3)\n",
    "\n",
    "print(\"Membership check: \", 3 in (1,2,3))\n",
    "\n",
    "for x in (1, 2, 3): print(x)\n",
    "    \n",
    "print(\"Negative sign will retrieve item from right: \", Tupleconcat[-2])\n",
    "\n",
    "print(\"Sliced Tuple [2:] \", Tupleconcat[2:])\n",
    "\n",
    "print(\"Max value(1,2,3,4,5,6,7,8,9,10): \",max((1,2,3,4,5,6,7,8,9,10)))\n",
    "print(\"Min value (1,2,3,4,5,6,7,8,9,10): \",min((1,2,3,4,5,6,7,8,9,10)))\n",
    "print(\"List [1,2,3,4] converted to tuple: \", type(tuple([1,2,3,4])))"
   ]
  },
  {
   "cell_type": "markdown",
   "metadata": {},
   "source": [
    "Dictionary"
   ]
  },
  {
   "cell_type": "code",
   "execution_count": 49,
   "metadata": {},
   "outputs": [
    {
     "name": "stdout",
     "output_type": "stream",
     "text": [
      "dictionary:  {'Name': 'abhi', 'Age': 21, 'Class': 'First'}\n"
     ]
    }
   ],
   "source": [
    "dict = {'Name': 'abhi', 'Age': 21, 'Class': 'First'}\n",
    "print(\"dictionary: \", dict)"
   ]
  },
  {
   "cell_type": "code",
   "execution_count": 51,
   "metadata": {},
   "outputs": [
    {
     "name": "stdout",
     "output_type": "stream",
     "text": [
      "Value of key Name, from dictionary: abhi\n"
     ]
    }
   ],
   "source": [
    "print(\"Value of key Name, from dictionary:\", dict['Name'])"
   ]
  },
  {
   "cell_type": "code",
   "execution_count": 54,
   "metadata": {},
   "outputs": [
    {
     "name": "stdout",
     "output_type": "stream",
     "text": [
      "dictionary:  {'Name': 'abhi', 'Age': 21, 'Class': 'First'}\n",
      "1 Name abhi\n",
      "2 Age 21\n",
      "3 Class First\n",
      "Sample dictionary post deletion of item Name: {'Age': 21, 'Class': 'First'}\n",
      "dict post dict.clear(): {}\n"
     ]
    }
   ],
   "source": [
    "dict0 = {'Name': 'abhi', 'Age': 21, 'Class': 'First'}\n",
    "print(\"dictionary: \", dict0)\n",
    "k=1\n",
    "for i in dict0:\n",
    "    print(k,i,dict0[i])\n",
    "    k=k+1\n",
    "del (dict0['Name']) \n",
    "\n",
    "print(\"Sample dictionary post deletion of item Name:\", dict0)\n",
    "\n",
    "dict0 = {'Name': 'Jivin', 'Age': 6, 'Class': 'First'}\n",
    "dict0.clear() \n",
    "print(\"dict post dict.clear():\", dict0)\n",
    "\n",
    "dict = {'Name': 'athul', 'Age': 16, 'Class': 'First'}\n",
    "del (dict0) "
   ]
  },
  {
   "cell_type": "code",
   "execution_count": 56,
   "metadata": {},
   "outputs": [
    {
     "name": "stdout",
     "output_type": "stream",
     "text": [
      "dictionary:  {'Name': 'abhi', 'Age': 21, 'Class': 'First'}\n",
      "updated value {'Name': 'abhi', 'Age': 20, 'Class': 'First'}\n"
     ]
    }
   ],
   "source": [
    "dict = {'Name': 'abhi', 'Age': 21, 'Class': 'First'}\n",
    "print(\"dictionary: \", dict)\n",
    "dict['Age'] = 20\n",
    "print(\"updated value\", dict)"
   ]
  },
  {
   "cell_type": "code",
   "execution_count": 57,
   "metadata": {},
   "outputs": [
    {
     "name": "stdout",
     "output_type": "stream",
     "text": [
      "Length of dict:  3\n",
      "Copy: {'Name': 'adhitya', 'Age': 10, 'Class': 'First'}\n",
      "Value for Age:  10\n",
      "dict items:  dict_items([('Name', 'adhitya'), ('Age', 10), ('Class', 'First')])\n",
      "dict keys:  dict_keys(['Name', 'Age', 'Class'])\n",
      "Value of dict:  dict_values(['adhitya', 10, 'First'])\n",
      "dict1.update(dict2) =  {'Name': 'abhi', 'Age': 21, 'Sex': 'male'}\n"
     ]
    }
   ],
   "source": [
    "dict = {'Name': 'adhitya', 'Age': 10, 'Class': 'First'}\n",
    "print(\"Length of dict: \", len(dict))\n",
    "dcopy = dict.copy()\n",
    "print(\"Copy:\",dcopy)\n",
    "print(\"Value for Age: \", dict.get('Age'))\n",
    "print(\"dict items: \", dict.items())\n",
    "\n",
    "print(\"dict keys: \", dict.keys())\n",
    "\n",
    "print(\"Value of dict: \", dict.values())\n",
    "\n",
    "d1 = {'Name': 'abhi', 'Age': 21}\n",
    "d2 = {'Sex': 'male' }\n",
    "d1.update(d2)\n",
    "print(\"dict1.update(dict2) = \", d1)"
   ]
  },
  {
   "cell_type": "markdown",
   "metadata": {},
   "source": [
    "User difined func"
   ]
  },
  {
   "cell_type": "code",
   "execution_count": 58,
   "metadata": {},
   "outputs": [
    {
     "name": "stdout",
     "output_type": "stream",
     "text": [
      "Hello World\n"
     ]
    }
   ],
   "source": [
    "def hello():\n",
    "    print(\"Hello World\")\n",
    "\n",
    "\n",
    "hello()"
   ]
  },
  {
   "cell_type": "code",
   "execution_count": 59,
   "metadata": {},
   "outputs": [
    {
     "name": "stdout",
     "output_type": "stream",
     "text": [
      "3\n"
     ]
    }
   ],
   "source": [
    "def add(x, y):\n",
    "        return x + y\n",
    "\n",
    "\n",
    "print(add(1,2))"
   ]
  },
  {
   "cell_type": "code",
   "execution_count": 60,
   "metadata": {},
   "outputs": [
    {
     "name": "stdout",
     "output_type": "stream",
     "text": [
      "30\n"
     ]
    }
   ],
   "source": [
    "x = 10\n",
    "\n",
    "def add(y):\n",
    "    return x + y\n",
    "print(add(20))"
   ]
  },
  {
   "cell_type": "code",
   "execution_count": 61,
   "metadata": {},
   "outputs": [
    {
     "name": "stdout",
     "output_type": "stream",
     "text": [
      "1\n",
      "2\n",
      "3\n"
     ]
    }
   ],
   "source": [
    "def func(*args):\n",
    "    for a in args:\n",
    "        print(a)\n",
    "\n",
    "func(1,2,3)"
   ]
  },
  {
   "cell_type": "code",
   "execution_count": 62,
   "metadata": {},
   "outputs": [
    {
     "name": "stdout",
     "output_type": "stream",
     "text": [
      "name janu\n",
      "age 10\n"
     ]
    }
   ],
   "source": [
    "def func2(**args):\n",
    "    for a in args:\n",
    "        print(a, args[a])\n",
    "func2(name='janu', age=10)"
   ]
  },
  {
   "cell_type": "code",
   "execution_count": 63,
   "metadata": {},
   "outputs": [
    {
     "name": "stdout",
     "output_type": "stream",
     "text": [
      "function method : 159\n",
      "lambda method : 159\n"
     ]
    }
   ],
   "source": [
    "def func(x, y): \n",
    "    return x + y\n",
    "print(\"function method :\",func(70,89))\n",
    "\n",
    "add = lambda x, y : x + y \n",
    "print(\"lambda method :\",add(70,89))"
   ]
  },
  {
   "cell_type": "code",
   "execution_count": null,
   "metadata": {},
   "outputs": [],
   "source": []
  }
 ],
 "metadata": {
  "kernelspec": {
   "display_name": "Python 3",
   "language": "python",
   "name": "python3"
  },
  "language_info": {
   "codemirror_mode": {
    "name": "ipython",
    "version": 3
   },
   "file_extension": ".py",
   "mimetype": "text/x-python",
   "name": "python",
   "nbconvert_exporter": "python",
   "pygments_lexer": "ipython3",
   "version": "3.7.6"
  }
 },
 "nbformat": 4,
 "nbformat_minor": 4
}
